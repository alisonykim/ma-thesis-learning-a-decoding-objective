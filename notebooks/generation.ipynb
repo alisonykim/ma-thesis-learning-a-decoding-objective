{
 "cells": [
  {
   "attachments": {},
   "cell_type": "markdown",
   "metadata": {},
   "source": [
    "### Generation with custom `LearnedWeightsLogitsWarper`"
   ]
  },
  {
   "cell_type": "code",
   "execution_count": 1,
   "metadata": {},
   "outputs": [],
   "source": [
    "import torch\n",
    "from transformers import GPT2LMHeadModel, GPT2TokenizerFast, LogitsWarper, LogitsProcessorList, StoppingCriteriaList, MaxLengthCriteria"
   ]
  },
  {
   "attachments": {},
   "cell_type": "markdown",
   "metadata": {},
   "source": [
    "#### Attribute calculations"
   ]
  },
  {
   "cell_type": "code",
   "execution_count": 2,
   "metadata": {},
   "outputs": [],
   "source": [
    "def calc_probs(logits: torch.FloatTensor) -> torch.FloatTensor:\n",
    "\treturn torch.nn.functional.softmax(logits, dim=-1)\n",
    "\n",
    "\n",
    "def calc_nlls(logits: torch.FloatTensor) -> torch.FloatTensor:\n",
    "\treturn torch.nn.functional.log_softmax(logits, dim=-1)\n",
    "\n",
    "\n",
    "def calc_entropies(probs: torch.FloatTensor, nlls: torch.FloatTensor) -> torch.FloatTensor:\n",
    "\tentropies = torch.sum(probs * nlls, dim=-1)\n",
    "\treturn entropies.unsqueeze(dim=1)\n",
    "\n",
    "\n",
    "def calc_diff_nlls_ents(nlls: torch.FloatTensor, entropies: torch.FloatTensor) -> torch.FloatTensor:\n",
    "\treturn nlls - entropies\n",
    "\n",
    "\n",
    "def is_top_k(probs: torch.FloatTensor, k: int, device: str) -> torch.FloatTensor:\n",
    "\ttop_k_indices = torch.topk(probs, k).indices\n",
    "\ttop_k_indicators = torch.zeros([probs.size(0), probs.size(1)], device=device, dtype=torch.long)\n",
    "\tfor time_step in range(probs.size(0)):\n",
    "\t\tfor index in top_k_indices[time_step]:\n",
    "\t\t\ttop_k_indicators[time_step][index] = 1\n",
    "\treturn top_k_indicators"
   ]
  },
  {
   "attachments": {},
   "cell_type": "markdown",
   "metadata": {},
   "source": [
    "#### ```LearnedWeightsLogitsWarper```"
   ]
  },
  {
   "cell_type": "code",
   "execution_count": 3,
   "metadata": {},
   "outputs": [],
   "source": [
    "class LearnedLogitsWarper(LogitsWarper):\n",
    "\t\"\"\"\n",
    "\t[`LogitsWarper`] that upweights token scores using a learned mapping from LM scores to a one-hot-encoded corpus of human-generated texts.\n",
    "\t\n",
    "\tArgs:\n",
    "\t\tlearned_weights_path: Absolute path to saved linear weights, i.e. the learned mapping from token attributes to one-hot encoding of human-generated (label) texts. Size is number of features `k` by model vocabulary size `|V|`.\n",
    "\t\n",
    "\tAttributes:\n",
    "\t\tw: Linear weight of size 1 x `k`.\n",
    "\t\tb: Linear bias of size [scalar].\n",
    "\t\"\"\"\n",
    "\t\n",
    "\tdef __init__(self, learned_weights_path: str, unigram_freqs_path: str):\n",
    "\t\tself.device = 'cuda' if torch.cuda.is_available() else 'cpu'\n",
    "\t\tself.model = torch.load(learned_weights_path, map_location=torch.device('cpu'))\n",
    "\t\tself.unigram_freqs_path = unigram_freqs_path\n",
    "\t\t\n",
    "\t\tself.w = self.model['linear.weight'] # 1 x k\n",
    "\t\tself.b = self.model['linear.bias'] # 1\n",
    "\n",
    "\tdef __call__(self, input_ids: torch.LongTensor, scores: torch.FloatTensor) -> torch.FloatTensor:\n",
    "\t\tattributes = self.calc_features(scores) # k x |V|\n",
    "\t\tupweighted_scores = torch.matmul(self.w, attributes) + self.b # (1 x k) x (k x |V|)\n",
    "\t\treturn upweighted_scores\n",
    "\t\n",
    "\tdef calc_features(self, scores: torch.FloatTensor, k: int=100) -> torch.FloatTensor:\n",
    "\t\t\"\"\"Calculate features tensor.\"\"\"\n",
    "\t\tprobs = calc_probs(scores)\n",
    "\t\tnlls = calc_nlls(scores)\n",
    "\t\tentropies = calc_entropies(probs, nlls)\n",
    "\t\tabs_diff = torch.abs(calc_diff_nlls_ents(nlls, entropies))\n",
    "\t\tcorpus_unigram_freq = self._get_corpus_unigram_freq()\n",
    "\t\ttop_k = is_top_k(probs, k, self.device)\n",
    "\n",
    "\t\tfeatures = torch.stack([probs, top_k, corpus_unigram_freq, abs_diff], dim=-1).squeeze()\n",
    "\t\treturn torch.transpose(features, dim0=0, dim1=1)\n",
    "\t\n",
    "\tdef _get_corpus_unigram_freq(self):\n",
    "\t\treturn torch.load(self.unigram_freqs_path, map_location=torch.device('cpu'))"
   ]
  },
  {
   "attachments": {},
   "cell_type": "markdown",
   "metadata": {},
   "source": [
    "#### Generate text"
   ]
  },
  {
   "cell_type": "code",
   "execution_count": 4,
   "metadata": {},
   "outputs": [],
   "source": [
    "checkpoint = 'gpt2-large'\n",
    "model = GPT2LMHeadModel.from_pretrained(checkpoint)\n",
    "tokenizer = GPT2TokenizerFast.from_pretrained(checkpoint)\n",
    "tokenizer.pad_token_id = tokenizer.eos_token_id"
   ]
  },
  {
   "cell_type": "code",
   "execution_count": 5,
   "metadata": {},
   "outputs": [
    {
     "name": "stdout",
     "output_type": "stream",
     "text": [
      "device: cpu\n"
     ]
    }
   ],
   "source": [
    "weights_path = '../models/weights/lm_28.pkl'\n",
    "corpus_path = '../data/unigram_freq/wiki_200k.pt'\n",
    "device = 'cuda' if torch.cuda.is_available() else 'cpu'\n",
    "print(f'device: {device}')\n",
    "\n",
    "seq_max_len = 100\n",
    "\n",
    "logits_warper = LogitsProcessorList(\n",
    "    [LearnedLogitsWarper(weights_path, corpus_path)]\n",
    ")\n",
    "\n",
    "stopping_criteria = StoppingCriteriaList(\n",
    "    [MaxLengthCriteria(max_length=seq_max_len)]\n",
    ")"
   ]
  },
  {
   "cell_type": "code",
   "execution_count": 6,
   "metadata": {},
   "outputs": [],
   "source": [
    "freqs = torch.load(corpus_path, map_location=torch.device(device))"
   ]
  },
  {
   "cell_type": "code",
   "execution_count": 7,
   "metadata": {},
   "outputs": [
    {
     "name": "stdout",
     "output_type": "stream",
     "text": [
      "tensor([[ 3260,   262,  1578,  1829,  5982,   262,  1175,   287,  3035, 24168]])\n"
     ]
    }
   ],
   "source": [
    "input = 'After the United States entered the war in April 1917'\n",
    "input_ids = tokenizer(input, return_tensors='pt')['input_ids']\n",
    "\n",
    "print(input_ids)"
   ]
  },
  {
   "cell_type": "code",
   "execution_count": 8,
   "metadata": {},
   "outputs": [],
   "source": [
    "torch.manual_seed(42)\n",
    "outputs = model.sample(\n",
    "    input_ids,\n",
    "    logits_warper=logits_warper,\n",
    "    stopping_criteria=stopping_criteria,\n",
    "    pad_token_id=tokenizer.eos_token_id,\n",
    "    eos_token_id=tokenizer.eos_token_id\n",
    ")"
   ]
  },
  {
   "cell_type": "code",
   "execution_count": 9,
   "metadata": {},
   "outputs": [
    {
     "data": {
      "text/plain": [
       "tensor([ 3260,   262,  1578,  1829,  5982,   262,  1175,   287,  3035, 24168,\n",
       "           11, 19297,  8018,   257, 12273,   761,   329,  1913,  2324,  4788,\n",
       "           25,   284,  1730,   351,   644,   339,  2936,   561,   307,   281,\n",
       "         5387, 17645,   286, 39627,    13,  1114, 47700,    11,   777,   366,\n",
       "           79,  4733,  1964, 35198,     1,  2950,  1115,  4237,    25,  1605,\n",
       "        25310,  3592,   338, 21403,   319, 11292, 29311,   286,  6541,   290,\n",
       "          584,  9416,   284,  3284,   290,  4492,    26,   257,  3252,   286,\n",
       "         7396,  4141,  4588,   287,  4881,    26,   290,  7570, 23594,   284,\n",
       "         4885,  4925,   290,  9572,    13,   679,   900,   503,   287,  3945,\n",
       "        25859,   284, 10568,   262,  1115,  7432,   290,  4474,   644,  2627])"
      ]
     },
     "execution_count": 9,
     "metadata": {},
     "output_type": "execute_result"
    }
   ],
   "source": [
    "outputs.squeeze()"
   ]
  },
  {
   "cell_type": "code",
   "execution_count": 10,
   "metadata": {},
   "outputs": [
    {
     "data": {
      "text/plain": [
       "'After the United States entered the war in April 1917, Roosevelt recognized a pressing need for strong security policies: to deal with what he felt would be an internal outbreak of Communism. For FDR, these \"possible political outbreaks\" involved three sources: American Protestant society\\'s dependence on overseas shipments of guns and other supplies to Russia and England; a fear of rising French influence in France; and Soviet hostility to Western freedom and intervention. He set out in February 1918 to resolve the three threats and establish what became'"
      ]
     },
     "execution_count": 10,
     "metadata": {},
     "output_type": "execute_result"
    }
   ],
   "source": [
    "tokenizer.decode(outputs.squeeze(), skip_special_tokens=True)"
   ]
  }
 ],
 "metadata": {
  "kernelspec": {
   "display_name": "venv",
   "language": "python",
   "name": "python3"
  },
  "language_info": {
   "codemirror_mode": {
    "name": "ipython",
    "version": 3
   },
   "file_extension": ".py",
   "mimetype": "text/x-python",
   "name": "python",
   "nbconvert_exporter": "python",
   "pygments_lexer": "ipython3",
   "version": "3.10.12"
  },
  "orig_nbformat": 4
 },
 "nbformat": 4,
 "nbformat_minor": 2
}
